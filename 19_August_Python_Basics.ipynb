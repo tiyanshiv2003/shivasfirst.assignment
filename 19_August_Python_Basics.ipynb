{
 "cells": [
  {
   "cell_type": "code",
   "execution_count": 2,
   "id": "11078b0f-d812-4bd2-b162-fd04eebb8f93",
   "metadata": {},
   "outputs": [
    {
     "name": "stdout",
     "output_type": "stream",
     "text": [
      "the value of x after swapping is: 10\n",
      "the value of y after swpping is: 5\n"
     ]
    }
   ],
   "source": [
    "#TOPIC-PYTHON BASIC VARIABLES \n",
    "#DECLARE TWO VARIABLES,'X' AND 'Y', AND ASSIGN THEM INTEGER VALUE.SWAP THE VALUES OF THESE VARIABLES WITHOUT USING ANY TEMPORARY VARIAABLES\n",
    "#Q1\n",
    "x=5\n",
    "y=10\n",
    "x=x+y\n",
    "y=x-y\n",
    "x=x-y\n",
    "print(\"the value of x after swapping is:\",x)\n",
    "print(\"the value of y after swpping is:\",y)"
   ]
  },
  {
   "cell_type": "code",
   "execution_count": 4,
   "id": "edbd9a4f-3693-47f6-824a-f28a4fb774b6",
   "metadata": {},
   "outputs": [
    {
     "name": "stdin",
     "output_type": "stream",
     "text": [
      "enter the length of the rectangle: 23\n",
      "enter the width of  the rectangle: 23\n"
     ]
    },
    {
     "name": "stdout",
     "output_type": "stream",
     "text": [
      "the area of the rectangel is= 529.0\n"
     ]
    }
   ],
   "source": [
    "#CREATE A PROGRAM THAT CALCULATES THE AREA OF A RECTANGLE. TAKE THE LENGTH AND WIDTH AS INPUT FROM THE USER AND STORE THEM IN VARIABLES. AND CALCULATE AND DISPLAY\n",
    "#Q2\n",
    "l=float(input(\"enter the length of the rectangle:\"))\n",
    "w=float(input(\"enter the width of  the rectangle:\"))\n",
    "area=l*w\n",
    "print(\"the area of the rectangel is=\",area)"
   ]
  },
  {
   "cell_type": "code",
   "execution_count": 10,
   "id": "913a5833-bfc2-4b10-ad1f-7b021f4de6ad",
   "metadata": {},
   "outputs": [
    {
     "name": "stdin",
     "output_type": "stream",
     "text": [
      "enter the temperature in celsius 34\n"
     ]
    },
    {
     "name": "stdout",
     "output_type": "stream",
     "text": [
      "34.0 degree celsius is equals to the 93.2 degree fahrenheit\n"
     ]
    }
   ],
   "source": [
    "#CONVERTS CELCIUS TO FAHRENHEI\n",
    "#Q3\n",
    "celsius=float(input(\"enter the temperature in celsius\"))\n",
    "fahrenheit=(celsius*9/5)+32\n",
    "print(celsius,\"degree celsius is equals to the\",fahrenheit,\"degree fahrenheit\")\n"
   ]
  },
  {
   "cell_type": "code",
   "execution_count": 12,
   "id": "f2095641-4da2-41b6-807a-8b247bfa2d88",
   "metadata": {},
   "outputs": [
    {
     "name": "stdin",
     "output_type": "stream",
     "text": [
      "enter a text 34\n"
     ]
    },
    {
     "name": "stdout",
     "output_type": "stream",
     "text": [
      "2\n"
     ]
    }
   ],
   "source": [
    "#TOPIC STRING BASED QUESTION\n",
    "#Q1\n",
    "#PROGRAM TO PRINT THE LENGTH OF THE STRING\n",
    "a=input(\"enter a text\")\n",
    "print(len(a))"
   ]
  },
  {
   "cell_type": "code",
   "execution_count": 14,
   "id": "eabfd415-95bf-4c54-821d-05942faf61fa",
   "metadata": {},
   "outputs": [
    {
     "name": "stdin",
     "output_type": "stream",
     "text": [
      "enter a sentence which contains vowels ok tell me that how many vowels presented in the this sentence\n"
     ]
    },
    {
     "name": "stdout",
     "output_type": "stream",
     "text": [
      "a is presented 2 times\n",
      "e is presented 10 times\n",
      "i is presented 2 times\n",
      "o is presented 3 times\n",
      "u is presented 0 times\n"
     ]
    }
   ],
   "source": [
    "#Q2\n",
    "#PROGRAM THAT TAKES A SENTENCE FROM USER AND COUNTS THE NUMBER OF VOWELS A,E,I,O,U\n",
    "sentence=input(\"enter a sentence which contains vowels\")\n",
    "sentence=sentence.lower()\n",
    "a=sentence.count('a')\n",
    "e=sentence.count('e')\n",
    "i=sentence.count('i')\n",
    "o=sentence.count('o')\n",
    "u=sentence.count('u')\n",
    "print(\"a is presented\",a,\"times\")\n",
    "print(\"e is presented\",e,\"times\")\n",
    "print(\"i is presented\",i,\"times\")\n",
    "print(\"o is presented\",o,\"times\")\n",
    "print(\"u is presented\",u,\"times\")\n",
    "\n",
    "               "
   ]
  },
  {
   "cell_type": "code",
   "execution_count": 15,
   "id": "063dc502-f967-406e-a2f3-2b91ce674044",
   "metadata": {},
   "outputs": [
    {
     "name": "stdin",
     "output_type": "stream",
     "text": [
      "enter a string shiva\n"
     ]
    },
    {
     "name": "stdout",
     "output_type": "stream",
     "text": [
      "the reverse string is : avihs\n"
     ]
    }
   ],
   "source": [
    "#Q3\n",
    "#PROGRAM TO PRINT THE REVERSE STRING\n",
    "string=input(\"enter a string\")\n",
    "reverse_string=string[::-1]\n",
    "print(\"the reverse string is :\",reverse_string)"
   ]
  },
  {
   "cell_type": "code",
   "execution_count": 19,
   "id": "2cf7fd9b-dd32-4bad-9ccb-582e49f23240",
   "metadata": {},
   "outputs": [
    {
     "name": "stdin",
     "output_type": "stream",
     "text": [
      "enter the a sentence: shiva\n"
     ]
    },
    {
     "name": "stdout",
     "output_type": "stream",
     "text": [
      "this setnence is not palindrome\n"
     ]
    }
   ],
   "source": [
    "#Q4\n",
    "#PROGRAM CHECKS THAT DOES THIS PROGRAM IS PALINDROME OR NOT\n",
    "sentence=input(\"enter the a sentence:\")\n",
    "sentence=sentence.replace(\" \",\"\").lower()\n",
    "palindrome=sentence==sentence[::1]\n",
    "if(sentence is palindrome):\n",
    "    print(\"this sentence is palindrome\")\n",
    "else:\n",
    "    print(\"this setnence is not palindrome\")\n"
   ]
  },
  {
   "cell_type": "code",
   "execution_count": 20,
   "id": "bef02e64-9e67-40f6-80b5-2336180f0ce6",
   "metadata": {},
   "outputs": [
    {
     "name": "stdin",
     "output_type": "stream",
     "text": [
      "enter the string shiva is the best boy\n"
     ]
    },
    {
     "name": "stdout",
     "output_type": "stream",
     "text": [
      "shivaisthebestboy\n"
     ]
    }
   ],
   "source": [
    "#Q5\n",
    "#PROGRAM WHICH TAKES STRING AS INPUT AND REMOVES ALL THE SPACES\n",
    "string=input(\"enter the string\")\n",
    "new_string=string.replace(\" \",\"\")\n",
    "print(new_string)"
   ]
  },
  {
   "cell_type": "code",
   "execution_count": null,
   "id": "8d7b100b-5aa0-4367-a12b-bc15978d6108",
   "metadata": {},
   "outputs": [],
   "source": []
  }
 ],
 "metadata": {
  "kernelspec": {
   "display_name": "Python 3 (ipykernel)",
   "language": "python",
   "name": "python3"
  },
  "language_info": {
   "codemirror_mode": {
    "name": "ipython",
    "version": 3
   },
   "file_extension": ".py",
   "mimetype": "text/x-python",
   "name": "python",
   "nbconvert_exporter": "python",
   "pygments_lexer": "ipython3",
   "version": "3.10.8"
  }
 },
 "nbformat": 4,
 "nbformat_minor": 5
}
